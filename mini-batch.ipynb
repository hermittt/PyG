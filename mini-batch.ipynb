{
 "cells": [
  {
   "cell_type": "markdown",
   "metadata": {},
   "source": [
    "## mini-batch原理\n",
    "- mini-batch就是并行处理多个图，这里把多个图的邻接矩阵A1、A2、……拼接成一个大的矩阵，可以看作一个对角矩阵（出现了很多0元素，即稀疏矩阵的存储）\n",
    "- https://pytorch-geometric.readthedocs.io/en/latest/notes/batching.html?highlight=PairData#pairs-of-graphs\n",
    "- https://blog.csdn.net/qq_38432089/article/details/122317699"
   ]
  },
  {
   "cell_type": "code",
   "execution_count": 28,
   "metadata": {},
   "outputs": [
    {
     "name": "stdout",
     "output_type": "stream",
     "text": [
      "0\n",
      "DataBatch(x=[5, 2], edge_index=[2, 4], edge_weight=[4], batch=[5], ptr=[2])\n",
      "tensor([[0, 0, 0, 0],\n",
      "        [1, 2, 3, 4]])\n",
      "tensor([0.1000, 0.2000, 0.3000, 0.4000])\n",
      "1\n",
      "DataBatch(x=[5, 2], edge_index=[2, 4], edge_weight=[4], batch=[5], ptr=[2])\n",
      "tensor([[0, 0, 0, 0],\n",
      "        [1, 2, 3, 4]])\n",
      "tensor([0.1000, 0.2000, 0.3000, 0.4000])\n",
      "0\n",
      "DataBatch(x=[10, 2], edge_index=[2, 8], edge_weight=[8], batch=[10], ptr=[3])\n",
      "tensor([[0, 0, 0, 0, 5, 5, 5, 5],\n",
      "        [1, 2, 3, 4, 6, 7, 8, 9]])\n",
      "tensor([0.1000, 0.2000, 0.3000, 0.4000, 0.1000, 0.2000, 0.3000, 0.4000])\n",
      "tensor([[-1.1419, -0.3925],\n",
      "        [-1.9028, -0.0072],\n",
      "        [-1.0383, -0.5071],\n",
      "        [ 0.6624, -0.3816],\n",
      "        [ 1.1719,  1.1952],\n",
      "        [-1.1419, -0.3925],\n",
      "        [-1.9028, -0.0072],\n",
      "        [-1.0383, -0.5071],\n",
      "        [ 0.6624, -0.3816],\n",
      "        [ 1.1719,  1.1952]])\n"
     ]
    }
   ],
   "source": [
    "import torch\n",
    "from torch_geometric.loader import DataLoader\n",
    "from torch_geometric.data import Data\n",
    "\n",
    "edge_index_s = torch.tensor([\n",
    "    [0, 0, 0, 0],\n",
    "    [1, 2, 3, 4],\n",
    "])\n",
    "x = torch.randn(5, 2)  # 5 nodes.\n",
    "edge_weight = torch.tensor(\n",
    "    [0.1, 0.2, 0.3, 0.4])\n",
    "data=Data(x=x, edge_index=edge_index_s,edge_weight=edge_weight)\n",
    "\n",
    "data_list = [data, data]\n",
    "loader1 = DataLoader(data_list, batch_size=1)\n",
    "loader2 = DataLoader(data_list, batch_size=2)\n",
    "i=0\n",
    "for batch in loader1:\n",
    "    print(i)\n",
    "    i+=1\n",
    "    print(batch)\n",
    "    print(batch.edge_index)\n",
    "    print(batch.edge_weight)\n",
    "i=0\n",
    "for batch in loader2:\n",
    "    print(i)\n",
    "    i+=1\n",
    "    print(batch)\n",
    "    print(batch.edge_index)\n",
    "    print(batch.edge_weight)\n",
    "    print(batch.x)"
   ]
  },
  {
   "cell_type": "markdown",
   "metadata": {},
   "source": [
    "- 要组成batch的用for循环构建datalist"
   ]
  },
  {
   "cell_type": "code",
   "execution_count": 36,
   "metadata": {},
   "outputs": [
    {
     "name": "stdout",
     "output_type": "stream",
     "text": [
      "1\n",
      "DataBatch(x=[5, 2], edge_index=[2, 4], batch=[5], ptr=[2])\n",
      "tensor([[0, 0, 0, 0],\n",
      "        [1, 2, 3, 4]])\n",
      "tensor([[-1.1419, -0.3925],\n",
      "        [-1.9028, -0.0072],\n",
      "        [-1.0383, -0.5071],\n",
      "        [ 0.6624, -0.3816],\n",
      "        [ 1.1719,  1.1952]])\n",
      "2\n",
      "DataBatch(x=[5, 2], edge_index=[2, 4], batch=[5], ptr=[2])\n",
      "tensor([[0, 0, 0, 0],\n",
      "        [1, 2, 3, 4]])\n",
      "tensor([[-1.1419, -0.3925],\n",
      "        [-1.9028, -0.0072],\n",
      "        [-1.0383, -0.5071],\n",
      "        [ 0.6624, -0.3816],\n",
      "        [ 1.1719,  1.1952]])\n"
     ]
    }
   ],
   "source": [
    "x = torch.tensor([[[-1.1419, -0.3925],\n",
    "        [-1.9028, -0.0072],\n",
    "        [-1.0383, -0.5071],\n",
    "        [ 0.6624, -0.3816],\n",
    "        [ 1.1719,  1.1952]],[\n",
    "        [-1.1419, -0.3925],\n",
    "        [-1.9028, -0.0072],\n",
    "        [-1.0383, -0.5071],\n",
    "        [ 0.6624, -0.3816],\n",
    "        [ 1.1719,  1.1952]]])\n",
    "x.shape\n",
    "edge_index=torch.tensor([[0, 0, 0, 0],[1, 2, 3, 4]])\n",
    "edge_index.shape\n",
    "datalist=[]\n",
    "for i in range(x.shape[0]):\n",
    "        datalist.append(Data(x=x[i], edge_index=edge_index))\n",
    "loader = DataLoader(datalist, batch_size=1)\n",
    "for batch in loader:\n",
    "    print(i)\n",
    "    i+=1\n",
    "    print(batch)\n",
    "    print(batch.edge_index)\n",
    "    print(batch.x)"
   ]
  }
 ],
 "metadata": {
  "kernelspec": {
   "display_name": "Python 3.9.12 ('pyg2')",
   "language": "python",
   "name": "python3"
  },
  "language_info": {
   "codemirror_mode": {
    "name": "ipython",
    "version": 3
   },
   "file_extension": ".py",
   "mimetype": "text/x-python",
   "name": "python",
   "nbconvert_exporter": "python",
   "pygments_lexer": "ipython3",
   "version": "3.9.12"
  },
  "orig_nbformat": 4,
  "vscode": {
   "interpreter": {
    "hash": "ce796860ea43bd64a88659bd336c1722a32ada0c5256b44271be361e52750df2"
   }
  }
 },
 "nbformat": 4,
 "nbformat_minor": 2
}
